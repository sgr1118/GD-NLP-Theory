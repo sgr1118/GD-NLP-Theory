{
  "nbformat": 4,
  "nbformat_minor": 0,
  "metadata": {
    "colab": {
      "provenance": [],
      "machine_shape": "hm",
      "mount_file_id": "1rlxRymaiNyWQpJFPLyD5CzBiQ4rx0vvp",
      "authorship_tag": "ABX9TyNyN7wZsuWZ0nVIb6y8GKJj",
      "include_colab_link": true
    },
    "kernelspec": {
      "name": "python3",
      "display_name": "Python 3"
    },
    "language_info": {
      "name": "python"
    },
    "accelerator": "GPU",
    "gpuClass": "premium"
  },
  "cells": [
    {
      "cell_type": "markdown",
      "metadata": {
        "id": "view-in-github",
        "colab_type": "text"
      },
      "source": [
        "<a href=\"https://colab.research.google.com/github/sgr1118/GD-NLP-Theory/blob/main/GD6_Learn_about_bias_within_embeddings(221002).ipynb\" target=\"_parent\"><img src=\"https://colab.research.google.com/assets/colab-badge.svg\" alt=\"Open In Colab\"/></a>"
      ]
    },
    {
      "cell_type": "markdown",
      "source": [
        "# 6-1. 들어가며\n",
        "\n",
        "인공지능은 객관적일까?\n",
        "\n",
        "![](https://d3s0tskafalll9.cloudfront.net/media/images/GN-3-P-00.max-800x600.png)\n",
        "<center></center>\n",
        "\n",
        "인공지능이 우리의 삶에 얼마나 가까이 다가왔을까요?\n",
        "\n",
        "오늘 하루를 떠올려 보면, 우리는 아마도 인공지능이 추천해주는 음악을 듣고, 뉴스 기사와 영화를 보았을 것입니다. 최근에는 인공지능 기반의 채용 시스템을 도입하는 곳도 늘고 있습니다. 대출 등 금융권에서도, 산업 현장에서도 활용되고 있습니다. 이처럼 인공지능이 사람의 의사결정을 돕는 사례가 늘고 있는데, 우리는 과연 인공지능을 온전히 믿을 수 있을까요?\n",
        "\n",
        "잘못된 머신러닝 학습에 대한 유명한 사례로 '차량 충돌 사고 실험'이 있습니다. 한 데이터 제조업체에서 충돌 실험을 통해 탑승자의 신체 움직임을 파악하고 안전성을 높이고자 했습니다. 그러나 결과적으로 여성 탑승자가 남성 탑승자보다 사망률이 높았다고 합니다. 왜 그런 걸까요? 차량 실험에서 쓰인 데이터가 남성 위주였기 때문입니다. 데이터로부터 편향성 이 생긴 경우입니다.\n",
        "\n",
        "이뿐만이 아닙니다. 객관적일 것이라고 기대했던 인공지능이 오히려 인종, 성 차별적인 특성을 보이는 사례가 있습니다. 아마존에서 지원자의 이력서를 검토해 인재를 발굴해낼 수 있는 인공지능 채용 시스템을 개발해 왔습니다. 그러나 이 시스템에는 문제가 있었습니다.\n",
        "\n",
        "이력서에 '여성'이라는 단어가 포함되면 감점이 된다든지, 여자 대학을 졸업한 지원자의 점수가 감점된다든지 하는 식으로 여성을 차별하는 것이 드러났습니다. 지난 10년간의 회사에 제출된 이력서 패턴을 익힌 인공지능 채용 시스템은 남성 우위인 기술산업 업계의 현실을 반영하게 된 것입니다.\n",
        "\n",
        "또 다른 사례가 있습니다. '콤파스'라는 범죄자의 형량을 정하는 알고리즘이 있습니다. 이 알고리즘은 범죄 방식, 생활 방식, 성격, 태도 등의 점수를 환산해 범죄자의 재범률을 예측하는 시스템입니다. 인종을 변수로 포함하고 있지 않은데도 흑인의 재범 가능성을 백인보다 2배 위험하다고 판단했습니다. [엠아이티 테크놀로지 리뷰](https://www.technologyreview.com/2020/07/17/1005396/predictive-policing-algorithms-racist-dismantled-machine-learning-bias-criminal-justice/)에 따르면 흑인과 백인은 동일 범행에 대해 다른 처벌을 받았기 때문에 이런 결과가 나타난 것입니다. 즉, 재범을 저지른 흑인은 체포될 확률이 백인에 비해 높았기 때문에 이런 데이터로 학습한 콤파스는 인종 차별을 할 수 밖에 없었습니다.\n",
        "\n",
        "위의 사례들은 데이터 안에 이미 편향성이 내재되어 있다면 이를 통해 나온 결과도 편향성을 가질 수 밖에 없다는 것을 잘 보여주는 사례들입니다.\n",
        "\n",
        "데이터를 기반으로 하는 인공지능에 대해 생각해 봅시다. 만약 우리가 가진 데이터가 이미 편향되어 있다면 이를 이용하여 만든 알고리즘 또한 편향될 확률이 매우 높습니다. 그래서 최근에는 인공지능이 가진 편향성을 예방하기 위한 연구가 지속되고 있습니다. 특히 자연어처리 분야, 그중에서도 워드 임베딩과 관련된 연구가 많이 이루어지고 있습니다.\n",
        "\n",
        "왜 그럴까요? 몇 가지 이유를 생각해 볼 수 있는데요. 우선 언어의 사용패턴이 담긴 코퍼스야말로 인간 무의식 속에 감추어진 편향성이 고스란히 드러나는 데이터셋이기 때문입니다.다른 이유로는 그 언어의 의미가 워드 임베딩에 추상적인 형태로 담겨 있는데, 최근 연구를 통해 그 임베딩 공간에서 편향성을 정량적으로 측정하는 방법론들이 발표되면서 이 분야의 연구가 활기를 띠게 되었기 때문입니다.\n",
        "\n",
        "그래서 오늘은 워드 임베딩에 숨어 있는 편향성을 측정하는 대표적인 방법론인 Word Embedding Association Test (WEAT) 라는 기법에 대해 알아보고, 이를 활용해 우리가 학습시킨 Word2Vec 임베딩 내의 편향성을 측정해 보면서 실제로 이 방법론이 우리 머리 속에 있는 편향성을 잘 반영하는지도 살펴보겠습니다.\n",
        "\n",
        "1. 학습 목표\n",
        "- 데이터의 편향성에 대한 문제의식을 갖는다.\n",
        "- 임베딩 모델의 편향성을 체크하는 방법 중 하나인 Word Embedding Association Test (WEAT)를 알아본다.\n",
        "- WEAT 수식의 의미를 이해하고 이를 구현해본다.\n",
        "- pre-train된 모델을 불러와서 WEAT score를 구해본다.\n",
        "\n",
        "2. 목차\n",
        "\n",
        "(1) 워드 임베딩의 편향성\n",
        "\n",
        "(2) WEAT를 통한 편향성 측정\n",
        "\n",
        "(3) WEAT 구현하기\n",
        "\n",
        "(4) 사전학습된 Word Embedding에 WEAT 적용\n",
        "\n",
        "(5) 직접 만드는 Word Embedding에 WEAT 적용(1)\n",
        "\n",
        "(6) 직접 만드는 Word Embedding에 WEAT 적용(2)\n",
        "\n",
        "(7) 프로젝트 : 모든 장르 간 편향성 측정해 보기"
      ],
      "metadata": {
        "id": "uXBU3zWs4IUc"
      }
    },
    {
      "cell_type": "markdown",
      "source": [
        "# 6-2. 워드 임베딩의 편향성"
      ],
      "metadata": {
        "id": "nrikrqUC6DY-"
      }
    },
    {
      "cell_type": "markdown",
      "source": [
        "1. 워드 임베딩 속의 편향성\n",
        "\n",
        "단어에 따라 특정 성별이 떠오르는 경우가있다. 예를들어 군인은 남성이 떠오르고 간호사는 여성이 떠오른다. 분명 군인과 간호사는 중립적인 단어이지만 우리의 무의식속에서 이런 사고가 일어난다.\n",
        "\n",
        "![](https://d3s0tskafalll9.cloudfront.net/media/images/GN-3-P-01.max-800x600.png)\n",
        "<center>Word Embedding을 2차원으로 차원 축소해서 시각화</center>\n",
        "\n",
        "위 그림은 2016년에 발표된 ['Man is to Computer Programmer as Woman is to Homemaker? Debiasing Word Embeddings'](https://arxiv.org/pdf/1607.06520.pdf)라는 논문에 포함된 것입니다.\n",
        "\n",
        "이 논문의 저자는 학습된 Word Embedding을 2차원으로 차원 축소해서 시각화했을 때, 분명히 젠더 중립적인 단어임에도 불구하고 Programmer, Doctor, Engineer 등의 단어는 남성대명사 He에 가깝게, Homemaker, Nurse, Hairdresser 등의 단어는 여성대명사 She에 가깝게 위치하는 것을 보여 줌으로써 큰 반향을 불러일으켰습니다.\n",
        "\n",
        "우리가 가지고 있을지도 모를 편견이 워드 임베딩 속 벡터들에 고스란히 반영되어 있었다는 것을 보여 주었기 때문입니다."
      ],
      "metadata": {
        "id": "lvlbJJhy65Yg"
      }
    },
    {
      "cell_type": "markdown",
      "source": [
        "2. WEAT(Word Embedding Association Test)\n",
        "\n",
        "워드 임베딩 벡터들 간에는 의미적인 유사도 거리를 정량적으로 측정할 수 있습니다. 그렇다면 워드 임베딩에 내포된 편향성도 정량적으로 측정할 방법은 없을까요? 위 논문이 발표되자마자 몇 달도 되지 않아 그런 방법이 제안되었습니다.\n",
        "\n",
        "Word Embedding Association Test (WEAT)\n",
        "\n",
        "[문 원본 : Semantics derived automatically from language corpora necessarily contain human biases](https://arxiv.org/pdf/1608.07187.pdf)\n",
        "\n",
        "편향을 정의하려면 워드 임베딩 간의 거리를 코사인 유사도를 통하여 할 수 있다.\n",
        "\n",
        "그런데 고작 4개의 단어 사이의 거리를 계산하는 방식으로 워드 임베딩 공간상에 편향이 존재한다고 단정할 수 있을까요? 어쩌면 그저 우연히 수치가 그렇게 나타났을 뿐일 수 있지 않을까요? 그래서 WEAT는 Male과 Female, Science와 Art라는 개념을 가장 잘 대표하는 단어들을 여러 개 골라 단어 셋(set)을 만듭니다. 단어 셋에 속한 모든 단어들끼리의 편향성을 전부 계산해서 평균을 수치화해보면 보다 명확하게 개념적인 편향성이 존재함을 밝힐 수 있지 않을까요?\n",
        "\n",
        "이러한 단어 셋을 WEAT에서는 각각 target 과 attribute 라고 합니다.\n",
        "\n",
        "위의 예를 다시 들자면, Science를 대표하는 target 단어 셋 X와 Art를 대표하는 target 단어 셋 Y가 있다고 하면 X-Y 셋을 통한 개념축 하나가 얻어집니다. Male을 대표하는 attribute 단어 셋 A와 Female을 대표하는 attribute 단어 셋 B가 있다면 A-B 셋을 통한 개념축 하나가 또 얻어집니다. 편향성이 없다면, X에 속한 단어들은 A에 속한 단어들과의 거리와 B에 속한 단어들과의 거리가 별 차이가 없어야 합니다. 반대의 경우라면 뚜렷하게 차이가 나겠죠. Y의 경우도 마찬가지입니다.\n",
        "\n",
        "다음 스텝에 수식을 통해 보다 명확하게 설명할 WEAT score는 바로 위와 같은 방식으로 계산된 수치입니다. 절댓값이 클수록 두 개념축 사이의 편향성이 크게 나타나는 것으로 해석됩니다.\n",
        "\n",
        "(참고)\n",
        "WEAT 개념의 아이디어는 심리학의 IAT(Implicit Association Test) 라는 인지편향성 실험 구조에서 따온 것입니다. IAT는 WEAT처럼 X-Y, A-B 두 개념축을 설정하는 점에서는 동일합니다. \n",
        "\n",
        "다만 단어들 사이의 거리를 측정하는 방법이 워드 임베딩간 코사인 유사도를 계산하는 방식이 아니라, 피실험자들에게 전자적으로 단어 연상 실험을 하면서 응답 반응 속도를 측정하는 방식을 사용했을 뿐입니다. 매우 재미있는 아이디어이므로 심리학에 관심이 있으시다면 아래 링크를 열어서 IAT 테스트를 수행하여 본인 무의식 속에 있는 편향성을 측정해 보세요.\n",
        "\n",
        "아래 표는 구글의 테크블로그에서 WEAT 개념을 소개하면서 첨부한 실험 결과표입니다.\n",
        "\n",
        "- [Text Embedding Models Contain Bias. Here's Why That Matters](https://developers.googleblog.com/2018/04/text-embedding-models-contain-bias.html)\n",
        "\n",
        "![](https://d3s0tskafalll9.cloudfront.net/media/images/GN-5-P-1.WEAT_table.max-800x600.png)\n",
        "<center></center>\n",
        "\n",
        "표에서 파란색은 사람의 편향과 같은 경우이고, 노란색은 사람의 편향과 반대인 경우를 의미합니다. (사람이 가진 편향은 Implicit Association Tests로 측정했습니다.)\n",
        "\n",
        "표를 보면 대부분의 색이 파란색인 것을 볼 수 있습니다. 이 표가 또한 말해주는 것은 사람이 가진 편향이 자연어 코퍼스 데이터에 반영되어 있고, 이 데이터로 만든 워드 임베딩 모델은 그 편향을 내재할 수밖에 없다는 점입니다.\n",
        "\n",
        "꽃과 벌레, 유쾌함과 불쾌함 등 누구나 동의할만한 편향성이 존재하는 경우엔 대부분의 경우 WEAT score의 절댓값이 1.5 이상으로 뚜렷한 편향성 수치가 나오는 것을 볼 수 있습니다. \n",
        "\n",
        "그 외에도 다양한 개념축간 편향성이 존재하는 것을 흥미롭게 살펴볼 수 있습니다.\n",
        "\n",
        "Glove, Word2Vec 등 다양한 워드 임베딩 모델에 대해 동일한 실험을 하여 WEAT score를 측정해 본 결과도 흥미롭습니다. 모델마다 WEAT score가 동일하게 나오는 것이 아닙니다. \n",
        "\n",
        "이런 차이점의 원인을 분석해 보는 것도 흥미로울 것 같습니다.\n",
        "\n"
      ],
      "metadata": {
        "id": "UBkOmBMt8KKn"
      }
    },
    {
      "cell_type": "markdown",
      "source": [
        "# 6-3. WEAT를 통한 편향성 측정\n",
        "\n",
        "WEAT score는 다음과 같이 정의합니다.\n",
        "\n",
        "![weat loss.PNG](data:image/png;base64,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)\n",
        "\n",
        "WEAT score를 계산하기 위한 식을 하나씩 살펴봅시다.\n",
        "\n",
        "이 테스트는 두 벡터의 유사도를 측정하기 위해 cosine similarity를 이용합니다. cosine similarity는 두 벡터 사이의 cosine 값을 이용하여 두 벡터의 유사도를 측정합니다. 다시 말해, 두 벡터 i,j가 주어졌을 때, cosine similarity cos (θ)는 dot product와 magnitude를 사용하여 구할 수 있습니다.\n",
        "\n",
        "![캡처.PNG](data:image/png;base64,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)\n",
        "\n",
        "- cos(θ)=1: 두 벡터의 방향이 똑같을 때\n",
        "- cos(θ)=0: 두 벡터가 직교할 때\n",
        "- cos(θ)=−1: 두 벡터의 방향이 반대일 때\n",
        "\n",
        "cosine similarity는 -1에서 1을 가질 수 있으며 두 벡터의 방향이 얼마나 유사한지를 나타내게 됩니다.\n",
        "\n",
        "![캡처2.PNG](data:image/png;base64,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)\n",
        "\n",
        "![weat2.PNG](data:image/png;base64,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)\n",
        "\n",
        "WEAT score를 다시보면 위 식의 분자 부분은 target X, Y에 속하는 각 단어 x, y들이 개념축 A-B에 대해 가지는 편향성을 r각각 평균 내서 뺀 차이입니다. 즉, X에 속하는 단어들과 Y에 속하는 단어들이 A-B 개념축에 대해 가지는 편향성의 정돠 뚜렷이 차이 날수록 이 WEAT score식의 분자값의 절댓값은 커지게 됩니다. 이 값을 X, Y에 속하는 모든 단어들이 가지는 편향성 값으 표준편차로 정규화한 값이 최종 WEAT score가 됩니다."
      ],
      "metadata": {
        "id": "1uWgrfM7-wYp"
      }
    },
    {
      "cell_type": "markdown",
      "source": [
        "# 6-4. WEAT 구현하기\n",
        "\n",
        "이제 WEAT score를 코드로 구현해보자."
      ],
      "metadata": {
        "id": "lDwzUMJsDq7L"
      }
    },
    {
      "cell_type": "code",
      "source": [
        "# 라이브러리 불러오기\n",
        "\n",
        "import numpy as np\n",
        "from numpy import dot\n",
        "from numpy.linalg import norm"
      ],
      "metadata": {
        "id": "a2BqDi5tDw3d"
      },
      "execution_count": null,
      "outputs": []
    },
    {
      "cell_type": "markdown",
      "source": [
        "우선 두 개의 target 단어 셋 X, Y와 두 개의 attribute 단어 셋 A, B를 정의합니다.\n",
        "\n",
        "단어 셋을 정할 때는 두 개의 target 셋의 크기가 같아야 하고, 두 개의 attribute 셋의 크기가 같아야 합니다.\n",
        "\n",
        "targets\n",
        "- X set(꽃) : 장미, 튤립, 백합, 데이지\n",
        "- Y set(곤충) : 거미, 모기, 파리, 메뚜기\n",
        "\n",
        "attributes\n",
        "- A set(유쾌) : 사랑, 행복, 웃음\n",
        "- B set(불쾌) : 재난, 고통, 증오"
      ],
      "metadata": {
        "id": "oUmkX3sBEWkm"
      }
    },
    {
      "cell_type": "code",
      "source": [
        "target_X = {\n",
        "    '장미': [4.1, 1.2, -2.4, 0.5, 4.1],\n",
        "    '튤립': [3.1, 0.5, 3.6, 1.7, 5.8],\n",
        "    '백합': [2.9, -1.3, 0.4, 1.1, 3.7],\n",
        "    '데이지': [5.4, 2.5, 4.6, -1.0, 3.6]}\n",
        "target_Y = {\n",
        "    '거미': [-1.5, 0.2, -0.6, -4.6, -5.3],\n",
        "    '모기': [0.4, 0.7, -1.9, -4.5, -2.9],\n",
        "    '파리': [0.9, 1.4, -2.3, -3.9, -4.7],\n",
        "    '메뚜기': [0.7, 0.9, -0.4, -4.1, -3.9]}\n",
        "attribute_A = {\n",
        "    '사랑':[2.8,  4.2, 4.3,  0.3, 5.0],\n",
        "    '행복':[3.8,  3. , -1.2,  4.4, 4.9],\n",
        "    '웃음':[3.7, -0.3,  1.2, -2.5, 3.9]}\n",
        "attribute_B = {\n",
        "    '재난': [-0.2, -2.8, -4.7, -4.3, -4.7],\n",
        "    '고통': [-4.5, -2.1,  -3.8, -3.6, -3.1],\n",
        "    '증오': [-3.6, -3.3, -3.5,  -3.7, -4.4]}"
      ],
      "metadata": {
        "id": "nB2zgFxHEcR0"
      },
      "execution_count": null,
      "outputs": []
    },
    {
      "cell_type": "code",
      "source": [
        "X = np.array([v for v in target_X.values()])\n",
        "Y = np.array([v for v in target_Y.values()])\n",
        "print(X)\n",
        "print(Y)"
      ],
      "metadata": {
        "colab": {
          "base_uri": "https://localhost:8080/"
        },
        "id": "zl9tjAwxEiL7",
        "outputId": "38635c77-a136-4af5-f1db-21ffb067fa75"
      },
      "execution_count": null,
      "outputs": [
        {
          "output_type": "stream",
          "name": "stdout",
          "text": [
            "[[ 4.1  1.2 -2.4  0.5  4.1]\n",
            " [ 3.1  0.5  3.6  1.7  5.8]\n",
            " [ 2.9 -1.3  0.4  1.1  3.7]\n",
            " [ 5.4  2.5  4.6 -1.   3.6]]\n",
            "[[-1.5  0.2 -0.6 -4.6 -5.3]\n",
            " [ 0.4  0.7 -1.9 -4.5 -2.9]\n",
            " [ 0.9  1.4 -2.3 -3.9 -4.7]\n",
            " [ 0.7  0.9 -0.4 -4.1 -3.9]]\n"
          ]
        }
      ]
    },
    {
      "cell_type": "code",
      "source": [
        "A = np.array([v for v in attribute_A.values()])\n",
        "B = np.array([v for v in attribute_B.values()])\n",
        "print(A)\n",
        "print(B)"
      ],
      "metadata": {
        "colab": {
          "base_uri": "https://localhost:8080/"
        },
        "id": "zZGLSzKDEs3Q",
        "outputId": "8bc51c08-1f9b-4812-cad5-88cfb411285f"
      },
      "execution_count": null,
      "outputs": [
        {
          "output_type": "stream",
          "name": "stdout",
          "text": [
            "[[ 2.8  4.2  4.3  0.3  5. ]\n",
            " [ 3.8  3.  -1.2  4.4  4.9]\n",
            " [ 3.7 -0.3  1.2 -2.5  3.9]]\n",
            "[[-0.2 -2.8 -4.7 -4.3 -4.7]\n",
            " [-4.5 -2.1 -3.8 -3.6 -3.1]\n",
            " [-3.6 -3.3 -3.5 -3.7 -4.4]]\n"
          ]
        }
      ]
    },
    {
      "cell_type": "code",
      "source": [
        "# s('장미', A, B) 계산\n",
        "\n",
        "def cos_sim(i, j):\n",
        "  return dot(i, j.T) / (norm(i) * norm(j))\n",
        "\n",
        "def s(w, A, B):\n",
        "  c_a = cos_sim(w, A)\n",
        "  c_b = cos_sim(w, B)\n",
        "  mean_A = np.mean(c_a, axis=-1)\n",
        "  mean_B = np.mean(c_b, axis=-1)\n",
        "  return mean_A - mean_B #, c_a, c_b\n",
        "\n",
        "print(s(target_X['장미'], A, B))"
      ],
      "metadata": {
        "colab": {
          "base_uri": "https://localhost:8080/"
        },
        "id": "Jd5_QmSUE3b2",
        "outputId": "e3f3087d-a021-4f36-bb27-64cc09da4a07"
      },
      "execution_count": null,
      "outputs": [
        {
          "output_type": "stream",
          "name": "stdout",
          "text": [
            "0.6457646122337399\n"
          ]
        }
      ]
    },
    {
      "cell_type": "markdown",
      "source": [
        "WEAT score값이 양수이므로, target_X에 있는 '장미'라는 단어는 attribute_B(불쾌)보다 attribute_A(유쾌)와 더 가깝다는 것을 알 수 있습니다. target_Y에 있는 '거미'와 attribute_A, attribute_B와의 관계도 계산해봅시다."
      ],
      "metadata": {
        "id": "m18AtM7dFZTN"
      }
    },
    {
      "cell_type": "code",
      "source": [
        "print(s(target_Y['메뚜기'], A, B))"
      ],
      "metadata": {
        "colab": {
          "base_uri": "https://localhost:8080/"
        },
        "id": "E0G72lFAFcPL",
        "outputId": "c20e1863-669f-41e4-9725-ad4fb6038162"
      },
      "execution_count": null,
      "outputs": [
        {
          "output_type": "stream",
          "name": "stdout",
          "text": [
            "-0.5755239745586089\n"
          ]
        }
      ]
    },
    {
      "cell_type": "markdown",
      "source": [
        "그럼 target_X와 attribute_A, attribute_B 사의의 평균값, 그리고 target_Y와 attribute_A, attribute_B 사이의 평균값은 다음과 같다."
      ],
      "metadata": {
        "id": "_2y4Dj0eFkHK"
      }
    },
    {
      "cell_type": "code",
      "source": [
        "print(s(X, A, B))\n",
        "print(round(np.mean(s(X, A, B)), 3))"
      ],
      "metadata": {
        "colab": {
          "base_uri": "https://localhost:8080/"
        },
        "id": "6ptAENVYFoqO",
        "outputId": "3a3d8598-23ef-44ba-8928-3c8448546143"
      },
      "execution_count": null,
      "outputs": [
        {
          "output_type": "stream",
          "name": "stdout",
          "text": [
            "[0.29551989 0.51723181 0.26499096 0.50924109]\n",
            "0.397\n"
          ]
        }
      ]
    },
    {
      "cell_type": "code",
      "source": [
        "print(s(Y, A, B))\n",
        "print(round(np.mean(s(Y, A, B)), 3))"
      ],
      "metadata": {
        "colab": {
          "base_uri": "https://localhost:8080/"
        },
        "id": "i2p5sp46F2pw",
        "outputId": "ae8c539f-8b45-4839-adee-14b089da95a7"
      },
      "execution_count": null,
      "outputs": [
        {
          "output_type": "stream",
          "name": "stdout",
          "text": [
            "[-0.44713039 -0.28310853 -0.33144878 -0.26030641]\n",
            "-0.33\n"
          ]
        }
      ]
    },
    {
      "cell_type": "code",
      "source": [
        "# WEAT score의 수식 전체를 코드로 구현\n",
        "\n",
        "def weat_score(X, Y, A, B):\n",
        "  s_X = s(X, A, B)\n",
        "  s_Y = s(Y, A, B)\n",
        "\n",
        "  mean_X = np.mean(s_X)\n",
        "  mean_Y = np.mean(s_Y)\n",
        "\n",
        "  std_dev = np.std(np.concatenate([s_X, s_Y], axis = 0))\n",
        "\n",
        "  return (mean_X - mean_Y) / std_dev\n",
        "\n",
        "print(round(weat_score(X, Y, A, B), 3))"
      ],
      "metadata": {
        "colab": {
          "base_uri": "https://localhost:8080/"
        },
        "id": "2U78H7DnGEZ6",
        "outputId": "f8db66d5-5850-426e-84d2-bc6925b4d3b8"
      },
      "execution_count": null,
      "outputs": [
        {
          "output_type": "stream",
          "name": "stdout",
          "text": [
            "1.932\n"
          ]
        }
      ]
    },
    {
      "cell_type": "markdown",
      "source": [
        "이제 이를 시각적으로 확인해볼까요? PCA를 통해 5차원이었던 벡터를 2차원으로 줄여 그림을 그려보겠습니다."
      ],
      "metadata": {
        "id": "TEakNt7nIbMw"
      }
    },
    {
      "cell_type": "code",
      "source": [
        "from sklearn.decomposition import PCA\n",
        "pca = PCA(n_components=2)\n",
        "pc_A = pca.fit_transform(A)\n",
        "pc_B = pca.fit_transform(B)\n",
        "pc_X = pca.fit_transform(X)\n",
        "pc_Y = pca.fit_transform(Y)\n",
        "\n",
        "import matplotlib.pyplot as plt\n",
        "fig, ax = plt.subplots()\n",
        "ax.scatter(pc_A[:,0],pc_A[:,1], c='blue', label='A')\n",
        "ax.scatter(pc_B[:,0],pc_B[:,1], c='red', label='B')\n",
        "ax.scatter(pc_X[:,0],pc_X[:,1], c='skyblue', label='X')\n",
        "ax.scatter(pc_Y[:,0],pc_Y[:,1], c='pink', label='Y')\n",
        "\n",
        "# 파란색 점(A)과 하늘색 점(X)이 가깝고, 빨간색 점(B)과 분홍색 점(Y)이 가깝게 표현된 것을 확인할 수 있습니다."
      ],
      "metadata": {
        "colab": {
          "base_uri": "https://localhost:8080/",
          "height": 283
        },
        "id": "3MQhPtOTIdGD",
        "outputId": "3b9be1b5-9ccc-4204-9a13-a84a557135f1"
      },
      "execution_count": null,
      "outputs": [
        {
          "output_type": "execute_result",
          "data": {
            "text/plain": [
              "<matplotlib.collections.PathCollection at 0x7f562f31d110>"
            ]
          },
          "metadata": {},
          "execution_count": 13
        },
        {
          "output_type": "display_data",
          "data": {
            "text/plain": [
              "<Figure size 432x288 with 1 Axes>"
            ],
            "image/png": "[encoded data removed]"
          },
          "metadata": {
            "needs_background": "light"
          }
        }
      ]
    },
    {
      "cell_type": "markdown",
      "source": [
        "# 6-5. 사전학습된 Word Embedding에 WEAT 적용\n",
        "\n",
        "지금까지 WEAT가 어떻게 계산되는지 확인해보았습니다. 이제 실제 pretrain된 임베딩 모델을 이용하여 계산해볼까요?\n",
        "\n",
        "구글에서 학습한 모델을 사용해보도록 하겠습니다."
      ],
      "metadata": {
        "id": "HyLZ4NB4I_pZ"
      }
    },
    {
      "cell_type": "code",
      "source": [
        "# gensim 불러오기\n",
        "import os\n",
        "import sys\n",
        "\n",
        "my_path = '/content/notebooks'\n",
        "# Colab Notebooks 안에 my_env 폴더에 패키지 저장\n",
        "os.symlink('/content/drive/My Drive/Colab Notebooks/my_env', my_path)\n",
        "sys.path.insert(0, my_path)"
      ],
      "metadata": {
        "id": "9tl6ut4CLZmJ"
      },
      "execution_count": null,
      "outputs": []
    },
    {
      "cell_type": "code",
      "source": [
        "# 사전학습된 워드 임베딩 불러오기\n",
        "\n",
        "model_dir = '/content/drive/MyDrive/Aiffel/GD_theory/GD6_file/GoogleNews-vectors-negative300.bin.gz'\n",
        "\n",
        "from gensim.models import KeyedVectors\n",
        "\n",
        "# 50만개의 단어만 활용합니다. 메모리가 충분하다면 limit 파라미터값을 생략하여 300만개를 모두 활용할 수 있습니다. \n",
        "w2v = KeyedVectors.load_word2vec_format(model_dir, binary=True, limit=500000)"
      ],
      "metadata": {
        "id": "IN6vCdFjKjTy"
      },
      "execution_count": null,
      "outputs": []
    },
    {
      "cell_type": "code",
      "source": [
        "w2v"
      ],
      "metadata": {
        "colab": {
          "base_uri": "https://localhost:8080/"
        },
        "id": "bWbQinwyLup0",
        "outputId": "a41a999b-4ecf-4d7d-e853-f80e83410f3e"
      },
      "execution_count": null,
      "outputs": [
        {
          "output_type": "execute_result",
          "data": {
            "text/plain": [
              "<gensim.models.keyedvectors.KeyedVectors at 0x7f562b566f90>"
            ]
          },
          "metadata": {},
          "execution_count": 24
        }
      ]
    },
    {
      "cell_type": "markdown",
      "source": [
        "💡 참고\n",
        "2021년 3월, Gensim이 4.0 으로 버전업되면서 KeyedVectors에 vocab dict가 제거되었습니다. 상세한 내용은 아래 링크를 참고해 주세요.\n",
        "\n",
        "[Migrating from Gensim 3.x to 4](https://github.com/RaRe-Technologies/gensim/wiki/Migrating-from-Gensim-3.x-to-4)"
      ],
      "metadata": {
        "id": "fTWF1F2NLxMI"
      }
    },
    {
      "cell_type": "code",
      "source": [
        "print(len(w2v.index_to_key))   # Gensim 4.0부터는 index_to_key를 활용해 vocab size를 알 수 있습니다. \n",
        "print(len(w2v['I']))                    # 혹은 단어를 key로 직접 vector를 얻을 수 있습니다. \n",
        "print(w2v.vectors.shape)"
      ],
      "metadata": {
        "colab": {
          "base_uri": "https://localhost:8080/"
        },
        "id": "rx6gCk8fL7fh",
        "outputId": "79c65147-7ab1-4d6f-db12-09c501325f0c"
      },
      "execution_count": null,
      "outputs": [
        {
          "output_type": "stream",
          "name": "stdout",
          "text": [
            "500000\n",
            "300\n",
            "(500000, 300)\n"
          ]
        }
      ]
    },
    {
      "cell_type": "code",
      "source": [
        "# 단어 벡터 알아보기\n",
        "\n",
        "w2v['happy']"
      ],
      "metadata": {
        "id": "OXGrf-h_MGZV"
      },
      "execution_count": null,
      "outputs": []
    },
    {
      "cell_type": "code",
      "source": [
        "# 'happy'와 유사한 단어 알아보기\n",
        "\n",
        "w2v.most_similar(positive=['happy'])"
      ],
      "metadata": {
        "colab": {
          "base_uri": "https://localhost:8080/"
        },
        "id": "uLRw5EeAMLgC",
        "outputId": "80b641fa-60bb-472a-d0bd-0f32475edbd3"
      },
      "execution_count": null,
      "outputs": [
        {
          "output_type": "execute_result",
          "data": {
            "text/plain": [
              "[('glad', 0.7408890724182129),\n",
              " ('pleased', 0.6632170677185059),\n",
              " ('ecstatic', 0.6626912355422974),\n",
              " ('overjoyed', 0.6599286794662476),\n",
              " ('thrilled', 0.6514049172401428),\n",
              " ('satisfied', 0.6437949538230896),\n",
              " ('proud', 0.636042058467865),\n",
              " ('delighted', 0.627237856388092),\n",
              " ('disappointed', 0.6269949674606323),\n",
              " ('excited', 0.6247665286064148)]"
            ]
          },
          "metadata": {},
          "execution_count": 27
        }
      ]
    },
    {
      "cell_type": "markdown",
      "source": [
        "이제 WEAT를 통해 이 모델의 편향성을 확인해보도록 하겠습니다. [논문](https://arxiv.org/pdf/1608.07187.pdf)에 있던 단어 셋으로 구성해보겠습니다."
      ],
      "metadata": {
        "id": "rjW28h0kMVlU"
      }
    },
    {
      "cell_type": "code",
      "source": [
        "target_X = ['science', 'technology', 'physics', 'chemistry', 'Einstein', 'NASA', 'experiment', 'astronomy']\n",
        "target_Y = ['poetry', 'art', 'Shakespeare', 'dance', 'literature', 'novel', 'symphony', 'drama']\n",
        "attribute_A = ['brother', 'father', 'uncle', 'grandfather', 'son', 'he', 'his', 'him']\n",
        "attribute_B = ['sister', 'mother', 'aunt', 'grandmother', 'daughter', 'she', 'hers', 'her']\n",
        "\n",
        "X = np.array([w2v[word] for word in target_X])\n",
        "Y = np.array([w2v[word] for word in target_Y])\n",
        "A = np.array([w2v[word] for word in attribute_A])\n",
        "B = np.array([w2v[word] for word in attribute_B])\n",
        "\n",
        "weat_score(X, Y, A, B)"
      ],
      "metadata": {
        "colab": {
          "base_uri": "https://localhost:8080/"
        },
        "id": "oNNuJ_CsMZyz",
        "outputId": "41ca5f3e-3f40-4bc8-dda7-e14ff412d9f2"
      },
      "execution_count": null,
      "outputs": [
        {
          "output_type": "execute_result",
          "data": {
            "text/plain": [
              "1.2624874"
            ]
          },
          "metadata": {},
          "execution_count": 28
        }
      ]
    },
    {
      "cell_type": "code",
      "source": [
        "# s('장미', A, B) 계산\n",
        "\n",
        "def cos_sim(i, j):\n",
        "  return dot(i, j.T) / (norm(i) * norm(j))\n",
        "\n",
        "def s(w, A, B):\n",
        "  c_a = cos_sim(w, A)\n",
        "  c_b = cos_sim(w, B)\n",
        "  mean_A = np.mean(c_a, axis=-1)\n",
        "  mean_B = np.mean(c_b, axis=-1)\n",
        "  return mean_A - mean_B #, c_a, c_b\n",
        "\n",
        "print(s(target_X['장미'], A, B))\n",
        "\n",
        "# WEAT score의 수식 전체를 코드로 구현\n",
        "\n",
        "def weat_score(X, Y, A, B):\n",
        "  s_X = s(X, A, B)\n",
        "  s_Y = s(Y, A, B)\n",
        "\n",
        "  mean_X = np.mean(s_X)\n",
        "  mean_Y = np.mean(s_Y)\n",
        "\n",
        "  std_dev = np.std(np.concatenate([s_X, s_Y], axis = 0))\n",
        "\n",
        "  return (mean_X - mean_Y) / std_dev\n",
        "\n",
        "print(round(weat_score(X, Y, A, B), 3))"
      ],
      "metadata": {
        "id": "Iipj2hQCPj_C"
      },
      "execution_count": null,
      "outputs": []
    },
    {
      "cell_type": "code",
      "source": [
        "print(s(X, A, B))\n",
        "print(np.mean(s(X, A, B)))\n",
        "\n",
        "print(s(Y, A, B))\n",
        "print(np.mean(s(Y, A, B)))\n",
        "\n",
        "print(np.std(np.concatenate([s(X, A, B), s(Y, A, B)], axis = 0)))"
      ],
      "metadata": {
        "colab": {
          "base_uri": "https://localhost:8080/"
        },
        "id": "CB8ZjfNNOkx4",
        "outputId": "395d4e57-7cef-47ab-d7ee-bcc162ea7225"
      },
      "execution_count": null,
      "outputs": [
        {
          "output_type": "stream",
          "name": "stdout",
          "text": [
            "[-0.00313112 -0.00064366  0.00575149 -0.00044019  0.00229683 -0.00679989\n",
            "  0.00015504  0.0017382 ]\n",
            "-0.00013416313\n",
            "[-0.00805793 -0.00525846 -0.00407157 -0.0113201  -0.00699018 -0.0072994\n",
            " -0.00267576  0.00019623]\n",
            "-0.005684647\n",
            "0.0043964665\n"
          ]
        }
      ]
    },
    {
      "cell_type": "code",
      "source": [
        "fe = np.mean(s(X, A, B))\n",
        "\n",
        "fe2 = np.mean(s(Y, A, B))\n",
        "\n",
        "print(fe - fe2)"
      ],
      "metadata": {
        "colab": {
          "base_uri": "https://localhost:8080/"
        },
        "id": "3Sp5EyBxPxmU",
        "outputId": "3632b4a6-7da1-4fb7-c46e-a66a7a95b927"
      },
      "execution_count": null,
      "outputs": [
        {
          "output_type": "stream",
          "name": "stdout",
          "text": [
            "0.0055504837\n"
          ]
        }
      ]
    },
    {
      "cell_type": "markdown",
      "source": [
        "과학과 관련된 단어가 남성과 관련된 단어와 가깝고, 예술과 관련된 단어가 여성과 관련된 단어와 가깝게 나타났습니다. 사람의 편향성을 실험하는 IAT에서도 이와 같게 나타났었죠? 많은 사람이 가진 편향이 임베딩 모델에 반영되었다고 볼 수 있습니다.\n",
        "\n",
        "이제 다른 셋을 구성해볼까요? target_X는 인스턴트 식품들로 단어를 구성하였고 target_Y는 그 반대로 구성했습니다. attribute_A는 인스턴트를 의미하는 단어들로, attributes_B는 그 반대로 구성했습니다."
      ],
      "metadata": {
        "id": "0Jv9llFKMePm"
      }
    },
    {
      "cell_type": "code",
      "source": [
        "target_X = ['pizza', 'coke', 'hamburger', 'ham', 'ramen', 'icecream', 'candy']\n",
        "target_Y = ['salad', 'fruit', 'vegetable', 'herb', 'root', 'greens', 'wholesome']\n",
        "attribute_A = ['junk', 'canned', 'convenience', 'frozen', 'fast']\n",
        "attribute_B = ['health', 'beneficial', 'good', 'nourishing', 'nutritious']\n",
        "\n",
        "X = np.array([w2v[word] for word in target_X])\n",
        "Y = np.array([w2v[word] for word in target_Y])\n",
        "A = np.array([w2v[word] for word in attribute_A])\n",
        "B = np.array([w2v[word] for word in attribute_B])\n",
        "\n",
        "weat_score(X, Y, A, B)"
      ],
      "metadata": {
        "colab": {
          "base_uri": "https://localhost:8080/"
        },
        "id": "CGpov30VQ7Tz",
        "outputId": "9ac3cef6-e402-447f-f954-5ef2196edf24"
      },
      "execution_count": null,
      "outputs": [
        {
          "output_type": "execute_result",
          "data": {
            "text/plain": [
              "1.6909266"
            ]
          },
          "metadata": {},
          "execution_count": 38
        }
      ]
    },
    {
      "cell_type": "markdown",
      "source": [
        "모델도 우리의 예상과 맞는 방향으로 상당히 높은 수치를 보이는 것을 확인했습니다. 인스턴트 식품의 예시와 인스턴트를 의미하는 단어가 가까운 것은 당연합니다. 이 경우 모델이 편향되어있다기보다 단어의 의미를 잘 파악했다고 볼 수 있습니다.\n",
        "\n",
        "동일한 target 셋에 다른 attribute 셋을 만들볼까요? attribute_A에는 책과 관련된 단어로 구성하고, attribute_B는 뉴스와 관련된 단어로 구성했습니다. 이번에는 어떤 결과를 가져올까요?"
      ],
      "metadata": {
        "id": "wul4fdqlQ9v5"
      }
    },
    {
      "cell_type": "code",
      "source": [
        "target_X = ['pizza', 'coke', 'hamburger', 'ham', 'ramen', 'icecream', 'candy']\n",
        "target_Y = ['salad', 'fruit', 'vegetable', 'herb', 'root', 'greens', 'wholesome']\n",
        "attribute_A = ['book', 'essay', 'dictionary', 'magazine', 'novel']\n",
        "attribute_B = ['news', 'report', 'statement', 'broadcast', 'word']\n",
        "\n",
        "X = np.array([w2v[word] for word in target_X])\n",
        "Y = np.array([w2v[word] for word in target_Y])\n",
        "A = np.array([w2v[word] for word in attribute_A])\n",
        "B = np.array([w2v[word] for word in attribute_B])\n",
        "\n",
        "weat_score(X, Y, A, B)\n",
        "\n",
        "# 어느 것끼리 가깝다고 말할 수 없는 것이다."
      ],
      "metadata": {
        "colab": {
          "base_uri": "https://localhost:8080/"
        },
        "id": "RnURVuZERCtL",
        "outputId": "deac7408-fa2e-4ce1-f215-2ef28a6fb0c8"
      },
      "execution_count": null,
      "outputs": [
        {
          "output_type": "execute_result",
          "data": {
            "text/plain": [
              "-0.05137869"
            ]
          },
          "metadata": {},
          "execution_count": 39
        }
      ]
    },
    {
      "cell_type": "code",
      "source": [
        "# 메모리 비워주기\n",
        "del w2v"
      ],
      "metadata": {
        "id": "B-taglYqROAA"
      },
      "execution_count": null,
      "outputs": []
    },
    {
      "cell_type": "markdown",
      "source": [
        "# 6-6. 직접 만드는 Word Embedding에 WEAT 적용(1)\n",
        "\n",
        "지금까지는 제시된 모델과 단어들로 WEAT score를 구해보았습니다. 이제 주어진 데이터로 다음과 같은 과정을 수행해보도록 하겠습니다.\n",
        "\n",
        "1. 형태소 분석기를 이용하여 품사가 명사인 경우, 해당 단어를 추출하기\n",
        "\n",
        "2. 추출된 결과로 embedding model 만들기\n",
        "\n",
        "3. TF/IDF로 해당 데이터를 가장 잘 표현하는 단어 셋 만들기\n",
        "\n",
        "4. embedding model과 단어 셋으로 WEAT score 구해보기\n"
      ],
      "metadata": {
        "id": "_pkRrtcNR4JG"
      }
    },
    {
      "cell_type": "code",
      "source": [
        "# synopsis.zip unzip\n",
        "\n",
        "!unzip /content/drive/MyDrive/Aiffel/GD_theory/GD6_file/synopsis.zip"
      ],
      "metadata": {
        "colab": {
          "base_uri": "https://localhost:8080/"
        },
        "id": "5ZiMt2UsSOc3",
        "outputId": "a9327f95-13e1-40d7-81e2-8d00c7bbf127"
      },
      "execution_count": null,
      "outputs": [
        {
          "output_type": "stream",
          "name": "stdout",
          "text": [
            "Archive:  /content/drive/MyDrive/Aiffel/GD_theory/GD6_file/synopsis.zip\n",
            "  inflating: synopsis.txt            \n",
            "  inflating: synopsis_SF.txt         \n",
            "  inflating: synopsis_action.txt     \n",
            "  inflating: synopsis_adult.txt      \n",
            "  inflating: synopsis_adventure.txt  \n",
            "  inflating: synopsis_animation.txt  \n",
            "  inflating: synopsis_art.txt        \n",
            "  inflating: synopsis_comedy.txt     \n",
            "  inflating: synopsis_crime.txt      \n",
            "  inflating: synopsis_documentary.txt  \n",
            "  inflating: synopsis_drama.txt      \n",
            "  inflating: synopsis_etc.txt        \n",
            "  inflating: synopsis_family.txt     \n",
            "  inflating: synopsis_fantasy.txt    \n",
            "  inflating: synopsis_gen.txt        \n",
            "  inflating: synopsis_historical.txt  \n",
            "  inflating: synopsis_horror.txt     \n",
            "  inflating: synopsis_musical.txt    \n",
            "  inflating: synopsis_mystery.txt    \n",
            "  inflating: synopsis_romance.txt    \n",
            "  inflating: synopsis_show.txt       \n",
            "  inflating: synopsis_thriller.txt   \n",
            "  inflating: synopsis_war.txt        \n",
            "  inflating: synopsis_western.txt    \n"
          ]
        }
      ]
    },
    {
      "cell_type": "code",
      "source": [
        "with open('/content/synopsis.txt', 'r') as file:\n",
        "  for i in range(20):\n",
        "      print(file.readline(), end='')"
      ],
      "metadata": {
        "colab": {
          "base_uri": "https://localhost:8080/"
        },
        "id": "u7wosixLSmk3",
        "outputId": "eb20349d-904b-45a4-cbf7-06c071f6edbb"
      },
      "execution_count": null,
      "outputs": [
        {
          "output_type": "stream",
          "name": "stdout",
          "text": [
            "사운드 엔지니어 상우(유지태 분)는 치매에 걸린 할머니(백성희 분)와\n",
            " 젊은 시절 상처한 한 아버지(박인환 분), 고모(신신애 분)와 함께 살고 있다.\n",
            " 어느 겨울 그는 지방 방송국 라디오 PD 은수(이영애 분)를 만난다.\n",
            " 자연의 소리를 채집해 틀어주는 라디오 프로그램을 준비하는 은수는 상우와 녹음 여행을 떠난다.\n",
            " 자연스레 가까워지는 두 사람은 어느 날, 은수의 아파트에서 밤을 보낸다.\n",
            " 너무 쉽게 사랑에 빠진 두 사람... 상우는 주체할 수 없을 정도로 그녀에게 빨려든다.\n",
            " 그러나 겨울에 만난 두 사람의 관계는 봄을 지나 여름을 맞이하면서 삐걱거린다.\n",
            " 이혼 경험이 있는 은수는 상우에게 결혼할 생각이 없다며 부담스러운 표정을 내비친다.\n",
            " \"어떻게 사랑이 변하니?...\"라고 묻는 상우에게 은수는 그저 \"헤어져\" 라고 단호하게 말한다.\n",
            " 영원히 변할 것 같지 않던 사랑이 변하고, 그 사실을 받아들이지 못하는 상우는 어찌 할 바를 모른다.\n",
            " 은수를 잊지 못하는 상우는 미련과 집착의 감정을 이기지 못하고 서울과 강릉을 오간다.\n",
            "유사 이래 연령, 성별, 빈부의 차이와 정치적인 입장을 불문하고 일거에 국민을 통합해 온 '애국심'이라는 성역에 일침을 가하는 다큐멘터리. 재작년 전국 민족민주 유가족협의회의 장기농성을 다룬 인상적인 다큐멘터리 <민들레>를 만들었던 독립영화집단 '빨간 눈사람'이 우리 사회 구석구석을 발빠르게 돌아다니며 애국심과 민족주의가 강요되는 현장을 발굴하여 카메라에 담았다. 박홍 서강대 명예총장, 이도형 '한국논단' 발행인, 축구해설자 신문선, 홍세화, 박노해 등 사회 각계의 '스타'들이 등장해 저마다의 확고한 신념을 성토한다. 감독 이경순과 최하동하는 이 작품을 위해 3년간 백여 명을 인터뷰했다고 한다. 2001 올해의 독립영화상 수상.\n",
            " 민족과 국가란 공동체에서 부단히 권력과 부를 얻는 자, 나아가 민족과 국가란 공동체에서 얻은 신분과 부귀를 영원히 그의 자손에게 대물림하려는 자, 그래서 민족과 국가란 공동체를 부단히 유지해야만 하는 자, 따라서 민족과 국가란 공동체의 당위성과 개인의 가치를 초월하는 그 존엄성을 끝도 없이 창조하고 되뇌어야 하는 자, 종국에는 민족과 국가란 공동체에 속해 있다고 태내에서부터 세뇌된 모든 이들의 삶과 행동에서 영원히 자기복제되는 순환의 고리, 영생하는 애국의 원동력은 그 순환의 골에서 온다.\n",
            "엽기적인 살인사건이 발생한 장소를 관광하는 투어팀. 그 팀에서 관광객들은 살인사건과 관련하여 히스테리컬한 반응을 보이는데 과연 이들의 정체는? (Tourists see whrer a murder take place. They respond hysterically to the murder…what are they?)\n",
            " 제46회 발라돌리드 국제영화제 (2001, 스페인)\n",
            "착하지만 엉뚱한 태희(배두나 분), 예쁜 깍쟁이 혜주(이요원 분), 그림을 잘 그리는 지영(옥지영 분), 명랑한 쌍둥이 비류(이은실 분)와 온조(이은주 분)는 단짝친구들. 늘 함께였던 그들이지만 스무 살이 되면서 길이 달라진다. 증권회사에 입사한 혜주는 성공한 커리어우먼의 야심을 키우고 미술에 재능이 있는 지영은 유학을 꿈꾼다. 한편 태희는 봉사활동에서 알게 된 뇌성마비 시인을 좋아하는데...\n",
            "  어느 날 지영이 길 잃은 새끼 고양이 티티를 만남면서 스무 살 그녀들의 삶에 고양이 한 마리가 끼어들게 된다. 혼자 있길 좋아하고, 쉽게 마음을 열지 않는 신비로운 동물 고양이. 고양이를 닮은 스무 살 그녀들. 고양이 티티와 함께 한 시간동안 삶은 예상못한 방향으로 흘러가지만 마침내 그녀들만의 해결책을 찾게 되는데... 사랑스런 몽상가 태희, 아름다운 야심가 혜주, 신비로운 아웃사이더 지영. 마지막으로 고양이를 부탁받은 사람은 누구일까?\n",
            "인도 등 아시아 식민지에 처음 발을 디딘 뒤 여행하고 “경영”한 이들은 과연 누구였을까? 과거의 이미지들은, 이민과 인종 문제, ‘오리엔탈리즘’이 격렬히 충돌하고 있는 현재와 강력하게 공명한다.\n",
            " [제19회 인디다큐페스티발]\n",
            "홀로 살아가는 미국 할머니와 한국 할머니의 이야기. 공원에서 가끔 마주치게 되는 그들은 비록 언어 소통의 어려움을 겪지만 시간이 흘러감에 따라 서로 가까워져 그들의 외로움과 우정을 공유하게 된다. 겨울이 지나고 봄이 왔을 때 길가의 민들레 홀씨는 삶의 이치를 말해주듯 한 할머니의 주위를 맴돈다. (Two elderly widows, an American and a Korean, frequent the same park in Philadelphia and attempt a friendship, though the Korean widow speaks no English. Driven by loneliness and a spark of hope, they persevere within the limits of body language, and the outcome poses a question of life as fundamental as a flower.)\n"
          ]
        }
      ]
    },
    {
      "cell_type": "code",
      "source": [
        "!curl -s https://raw.githubusercontent.com/teddylee777/machine-learning/master/99-Misc/01-Colab/mecab-colab.sh | bash"
      ],
      "metadata": {
        "id": "R9-2pCwLS_Gu"
      },
      "execution_count": null,
      "outputs": []
    },
    {
      "cell_type": "code",
      "source": [
        "# 명사 tokenized\n",
        "\n",
        "from konlpy.tag import Okt\n",
        "okt = Okt()\n",
        "tokenized = []\n",
        "\n",
        "with open('/content/synopsis.txt', 'r') as file:\n",
        "  while True:\n",
        "    line = file.readline()\n",
        "    if not line : break\n",
        "    words = okt.pos(line, stem = True, norm = True)\n",
        "    res = []\n",
        "    for w in words:\n",
        "      if w[1] in ['Noun']:  # \"Adjective\", \"Verb\" 등을 포함할 수도 있습니다.\n",
        "        res.append(w[0]) # 명사일 때만 tokenized에 저장\n",
        "    tokenized.append(res)"
      ],
      "metadata": {
        "id": "WssAs6OsTIxD"
      },
      "execution_count": null,
      "outputs": []
    },
    {
      "cell_type": "code",
      "source": [
        "print(len(tokenized))"
      ],
      "metadata": {
        "colab": {
          "base_uri": "https://localhost:8080/"
        },
        "id": "fMXE7WmIUQa0",
        "outputId": "ee2d0b16-f2df-4c09-91d3-7875cf94ea9a"
      },
      "execution_count": null,
      "outputs": [
        {
          "output_type": "stream",
          "name": "stdout",
          "text": [
            "71156\n"
          ]
        }
      ]
    },
    {
      "cell_type": "markdown",
      "source": [
        "2. 추출된 결과로 embedding model 만들기"
      ],
      "metadata": {
        "id": "kf4QlFD4URN1"
      }
    },
    {
      "cell_type": "code",
      "source": [
        "from gensim.models import Word2Vec\n",
        "\n",
        "# tokenized에 담긴 데이터를 가지고 나만의 Word2Vec을 생성합니다. (Gensim 4.0 기준)\n",
        "\n",
        "model = Word2Vec(tokenized, vector_size = 100, window = 5, min_count = 3, sg =0)\n",
        "model.wv.most_similar(positive=['영화'])"
      ],
      "metadata": {
        "colab": {
          "base_uri": "https://localhost:8080/"
        },
        "id": "8EDk6UZgUS12",
        "outputId": "41f2dba2-e0f4-491b-ebfd-a41465d5bb0a"
      },
      "execution_count": null,
      "outputs": [
        {
          "output_type": "execute_result",
          "data": {
            "text/plain": [
              "[('작품', 0.8984602093696594),\n",
              " ('다큐멘터리', 0.8663474917411804),\n",
              " ('드라마', 0.823977530002594),\n",
              " ('영화로', 0.8159729242324829),\n",
              " ('형식', 0.7996976375579834),\n",
              " ('주제', 0.7984449863433838),\n",
              " ('코미디', 0.7863370180130005),\n",
              " ('소재', 0.7715755105018616),\n",
              " ('스토리', 0.7666681408882141),\n",
              " ('설정', 0.7636868953704834)]"
            ]
          },
          "metadata": {},
          "execution_count": 46
        }
      ]
    },
    {
      "cell_type": "code",
      "source": [
        "model.wv.most_similar(positive=['사랑'])"
      ],
      "metadata": {
        "colab": {
          "base_uri": "https://localhost:8080/"
        },
        "id": "l1NmHikMUm0p",
        "outputId": "6ae71cad-0445-4249-f61f-f4567841acb3"
      },
      "execution_count": null,
      "outputs": [
        {
          "output_type": "execute_result",
          "data": {
            "text/plain": [
              "[('애정', 0.7115237712860107),\n",
              " ('첫사랑', 0.7054235935211182),\n",
              " ('진심', 0.7049856185913086),\n",
              " ('만남', 0.7014681696891785),\n",
              " ('행복', 0.6934487819671631),\n",
              " ('연애', 0.6916521787643433),\n",
              " ('운명', 0.6886230111122131),\n",
              " ('이별', 0.6876173615455627),\n",
              " ('가슴', 0.6841421723365784),\n",
              " ('우정', 0.6841116547584534)]"
            ]
          },
          "metadata": {},
          "execution_count": 47
        }
      ]
    },
    {
      "cell_type": "markdown",
      "source": [
        "# 6-7. 직접 만드는 Word Embedding에 WEAT 적용(2)\n",
        "\n",
        "3. TF-IDF로 해당 데이터를 가장 잘 표현하는 단어 셋 만들기\n",
        "\n",
        "WEAT score를 구할 때 단어 셋을 만들어주어야 합니다. targets_X, targets_Y, attribute_A, attribute_B를 만들어주었던 것이 기억나시죠? 이제 두 축을 어떤 기준으로 잡고, 해당 축의 어떤 항목을 사용할지 정해야 합니다.\n",
        "\n",
        "여기서는 두 축을 영화 장르, 영화 구분 정보를 이용하겠습니다. (영화 구분 정보란 일반영화, 예술영화, 독립영화로 구분된 정보입니다. KOBIS에서 제공한 정보를 기준으로 분류하였습니다.)\n",
        "\n",
        "- 영화 구분\n",
        " - synopsis_art.txt : 예술영화\n",
        " - synopsis_gen.txt : 일반영화(상업영화)\n",
        " - 그 외는 독립영화 등으로 분류됩니다.\n",
        "\n",
        "- 장르 구분\n",
        " - synopsis_SF.txt: SF\n",
        " - synopsis_가족.txt: 가족\n",
        " - synopsis_공연.txt: 공연\n",
        " - synopsis_공포(호러).txt: 공포(호러)\n",
        " - synopsis_기타.txt: 기타\n",
        " - synopsis_다큐멘터리.txt: 다큐멘터리\n",
        " - synopsis_드라마.txt: 드라마\n",
        " - synopsis_멜로로맨스.txt: 멜로로맨스\n",
        " - synopsis_뮤지컬.txt: 뮤지컬\n",
        " - synopsis_미스터리.txt: 미스터리\n",
        " - synopsis_범죄.txt: 범죄\n",
        " - synopsis_사극.txt: 사극\n",
        " - synopsis_서부극(웨스턴).txt: 서부극(웨스턴)\n",
        " - synopsis_성인물(에로).txt: 성인물(에로)\n",
        " - synopsis_스릴러.txt: 스릴러\n",
        " - synopsis_애니메이션.txt: 애니메이션\n",
        " - synopsis_액션.txt: 액션\n",
        " - synopsis_어드벤처.txt: 어드벤처\n",
        " - synopsis_전쟁.txt: 전쟁\n",
        " - synopsis_코미디.txt: 코미디\n",
        " - synopsis_판타지.txt: 판타지\n",
        "\n",
        " 이번에는 예술영화와 일반영화(상업영화)라는 영화구분을 target으로 삼고, 드라마 장르와 액션 장르라는 장르구분을 attribute로 삼아 WEAT score를 계산해 보겠습니다. 즉 드라마 장르에는 예술영화적 성격이 강하고, 액션 장르에는 일반(상업)영화적 성격이 강할 것이라는 편향성이 워드 임베딩 상에 얼마나 나타나고 있는지를 측정해 보겠다는 것입니다.\n",
        "\n",
        "'synopsis_art.txt', 'synopsis_gen.txt' 두 파일을 읽고, 위에서 했던 것과 마찬가지로 명사에 대해서만 추출하여 art, gen 변수에 할당하시기 바랍니다."
      ],
      "metadata": {
        "id": "Erm8CqTtWZr8"
      }
    },
    {
      "cell_type": "code",
      "source": [
        "from sklearn.feature_extraction.text import TfidfVectorizer\n",
        "import numpy as np\n",
        "from konlpy.tag import Okt\n",
        "\n",
        "art_txt = 'synopsis_art.txt'\n",
        "gen_txt = 'synopsis_gen.txt'\n",
        "\n",
        "def read_token(file_name):\n",
        "  okt = Okt()\n",
        "  result = []\n",
        "  with open('/content/'+file_name, 'r') as fread:\n",
        "    while True:\n",
        "      line = fread.readline()\n",
        "      if not line : break\n",
        "      tokenlist = okt.pos(line, stem=True, norm=True)\n",
        "      for word in tokenlist:\n",
        "        if word[1] in ['Noun']: #, \"Adjective\", \"Verb\"]:\n",
        "          result.append((word[0]))\n",
        "  return ' '.join(result)"
      ],
      "metadata": {
        "id": "nT2uwsiiYgkT"
      },
      "execution_count": null,
      "outputs": []
    },
    {
      "cell_type": "code",
      "source": [
        "art = read_token(art_txt)\n",
        "gen = read_token(gen_txt)"
      ],
      "metadata": {
        "id": "EOnCCH2IZXWZ"
      },
      "execution_count": null,
      "outputs": []
    },
    {
      "cell_type": "markdown",
      "source": [
        "WEAT 계산을 위해서는 총 4개의 단어 셋 X, Y, A, B가 필요합니다. 예를 들면 예술영화라는 개념을 가장 잘 대표하는 단어들을 art_txt를 처리해서 만든 art라는 단어 리스트에서부터 골라내야 합니다. 이를 위해서 상식을 동원해서 적절한 단어를 골라낼 수도 있지만 보다 납득할 수 있는 보편적인 방법을 사용하는 것이 좋습니다.\n",
        "\n",
        "어떤 개념을 나타내는 단어를 선정하는 방법이 꼭 정해진 것은 아니다. 그러나 이번에는 예술, 일반영화하는 영화 구분별로 시놉시스를 모아 데이터를 구성했다.\n",
        "\n",
        "그렇다면 예술영화를 잘 대표하는 단어란 예술영화 시놉시스에는 자주 나타나지만 그 외 다른 구분의 영화(예를 들어 일반영화) 시놉시스에는 자주 나타자니 않는 것을 고르는 것이 적당할 것입니다.\n",
        "\n",
        "우리는 이런 것과 비슷한 개념의 단어 분석 방식 중, TF-IDF라는 것을 이미 접해보았다.\n",
        "\n",
        "즉, 코퍼스에서 자주 나타내는 단어이지만, 다른 코퍼스에까지 두루 걸쳐 나오지는 않는 단어를 선정하고 싶은 것이다.\n",
        "\n",
        "다시말하면 TF가 높고 IDF가 낮은 것을 말한다.\n",
        "\n",
        "이번에는 단어 셋 구성을 위해 TF-IDF 방식을 사용한다. (물론 최선의 방법은 아님!)\n",
        "\n"
      ],
      "metadata": {
        "id": "WZQ-r67nZoty"
      }
    },
    {
      "cell_type": "code",
      "source": [
        "# TF-IDF\n",
        "\n",
        "vectorizer = TfidfVectorizer()\n",
        "X = vectorizer.fit_transform([art, gen])\n",
        "\n",
        "print(X.shape)"
      ],
      "metadata": {
        "colab": {
          "base_uri": "https://localhost:8080/"
        },
        "id": "6_wS4fzbbIhX",
        "outputId": "3d18d939-839d-414f-dfc7-9474a578b600"
      },
      "execution_count": null,
      "outputs": [
        {
          "output_type": "stream",
          "name": "stdout",
          "text": [
            "(2, 41082)\n"
          ]
        }
      ]
    },
    {
      "cell_type": "code",
      "source": [
        "print(vectorizer.vocabulary_['영화'])\n",
        "print(vectorizer.get_feature_names()[23976])"
      ],
      "metadata": {
        "colab": {
          "base_uri": "https://localhost:8080/"
        },
        "id": "Fc8nRXAVbb-x",
        "outputId": "c7a4d959-1b1a-418d-9f9d-f90d15cb9e29"
      },
      "execution_count": null,
      "outputs": [
        {
          "output_type": "stream",
          "name": "stdout",
          "text": [
            "23976\n",
            "영화\n"
          ]
        },
        {
          "output_type": "stream",
          "name": "stderr",
          "text": [
            "/usr/local/lib/python3.7/dist-packages/sklearn/utils/deprecation.py:87: FutureWarning: Function get_feature_names is deprecated; get_feature_names is deprecated in 1.0 and will be removed in 1.2. Please use get_feature_names_out instead.\n",
            "  warnings.warn(msg, category=FutureWarning)\n"
          ]
        }
      ]
    },
    {
      "cell_type": "code",
      "source": [
        "# 벡터화 정렬\n",
        "\n",
        "m1 = X[0].tocoo() # art를 TF-IDF로 표현한 sparse matrix를 가져옵니다.\n",
        "m2 = X[1].tocoo() # gen을 TF-IDF로 표현한 sparse matrix를 가져옵니다.\n",
        "\n",
        "w1 = [[i,j] for i,j in zip(m1.col, m1.data)]\n",
        "w2 = [[i,j] for i,j in zip(m2.col, m2.data)]\n",
        "\n",
        "w1.sort(key = lambda x : x[1], reverse = True) # art를 구성하는 단어들을 TF-IDF가 높은 순으로 정렬합니다.\n",
        "w2.sort(key = lambda x : x[1], reverse = True) # gen을 구성하는 단어들을 TF-IDF가 높은 순으로 정렬합니다"
      ],
      "metadata": {
        "id": "7xIptifdbuiT"
      },
      "execution_count": null,
      "outputs": []
    },
    {
      "cell_type": "code",
      "source": [
        "# 영화를 대표하는 단어들 추출\n",
        "\n",
        "print('예술영화를 대표하는 단어들:')\n",
        "for i in range(100):\n",
        "  print(vectorizer.get_feature_names()[w1[i][0]], end = ', ')\n",
        "\n",
        "print('\\n') # 줄 나누기\n",
        "\n",
        "print('일반영화를 대표하는 단어들:')\n",
        "for i in range(100):\n",
        "  print(vectorizer.get_feature_names()[w2[i][0]], end = ', ')"
      ],
      "metadata": {
        "colab": {
          "base_uri": "https://localhost:8080/"
        },
        "id": "sM5UGrsdc2Vw",
        "outputId": "ed5af1d7-be06-40e9-ca3a-b5c272e09332"
      },
      "execution_count": null,
      "outputs": [
        {
          "output_type": "stream",
          "name": "stdout",
          "text": [
            "예술영화를 대표하는 단어들:\n",
            "그녀, 자신, 시작, 위해, 사랑, 사람, 영화, 친구, 남자, "
          ]
        },
        {
          "output_type": "stream",
          "name": "stderr",
          "text": [
            "/usr/local/lib/python3.7/dist-packages/sklearn/utils/deprecation.py:87: FutureWarning: Function get_feature_names is deprecated; get_feature_names is deprecated in 1.0 and will be removed in 1.2. Please use get_feature_names_out instead.\n",
            "  warnings.warn(msg, category=FutureWarning)\n"
          ]
        },
        {
          "output_type": "stream",
          "name": "stdout",
          "text": [
            "가족, 이야기, 마을, 사건, 마음, 세상, 아버지, 아이, 엄마, 모든, 여자, 대한, 서로, 과연, 다시, 시간, 아들, 소녀, 아내, 다른, 사이, 영화제, 세계, 사실, 하나, 점점, 남편, 감독, 여행, 인생, 발견, 모두, 순간, 우리, 가장, 마지막, 생활, 아빠, 모습, 통해, 죽음, 기억, 비밀, 학교, 음악, 한편, 소년, 생각, 도시, 명의, 사고, 결혼, 전쟁, 때문, 위기, 이제, 최고, 이자, 과거, 일상, 경찰, 상황, 간다, 미국, 결심, 운명, 현실, 관계, 지금, 단편, 여인, 하루, 이름, 이후, 준비, 인간, 감정, 만난, 국제, 처음, 충격, 살인, 누구, 동안, 존재, 그린, 어머니, 연인, 계속, 동생, 작품, \n",
            "\n",
            "일반영화를 대표하는 단어들:\n",
            "자신, 그녀, 영화제, 위해, 사람, 시작, 국제, 영화, 친구, 사랑, 남자, 이야기, 대한, 서울, 여자, 사건, 남편, 아이, 가족, 아버지, 다른, 마을, 시간, 엄마, 아들, 모든, 단편, 마음, 사실, 다시, 세계, 모습, 작품, 통해, 생각, 서로, 세상, 발견, 감독, 아내, 관계, 소녀, 사이, 하나, 우리, 애니메이션, 때문, 여성, 죽음, 과연, 점점, 인간, 생활, 한편, 결혼, 상황, 모두, 기억, 명의, 소년, 여행, 가장, 간다, 순간, 이제, 도시, 비밀, 학교, 과거, 가지, 이자, 경찰, 마지막, 미국, 동안, 전쟁, 주인공, 대해, 존재, 현실, 연출, 사고, 살인, 일상, 어머니, 계속, 사회, 인생, 다큐멘터리, 부문, 섹스, 최고, 바로, 동생, 의도, 하루, 위기, 계획, 정체, 한국, "
          ]
        }
      ]
    },
    {
      "cell_type": "markdown",
      "source": [
        "두 개념을 대표하는 단어를 TF-IDF가 높은 순으로 추출하려 하였지만, 양쪽에 중복된 단어가 너무나 많다. 두 개념축이 대조되도록 대표하는 단어 셋을 만들고 싶기 때문에 단어가 서로 중복되지 않게 단어셋을 추출해야한다.\n",
        "\n",
        "우선 상위 100개의 단어들 중 중복되는 단어를 제외하고 상위n(=15)개의 단어를 추출합니다."
      ],
      "metadata": {
        "id": "jM8eRDZTdX1N"
      }
    },
    {
      "cell_type": "code",
      "source": [
        "n = 15\n",
        "\n",
        "w1_, w2_ = [], [] # 각각 빈 리스트 만들어주기\n",
        "\n",
        "for i in range(100):\n",
        "  w1_.append(vectorizer.get_feature_names()[w1[i][0]])\n",
        "  w2_.append(vectorizer.get_feature_names()[w2[i][0]])\n",
        "\n",
        "# w1에만 있고 w2에는 없는, 예술영화를 잘 대표하는 단어를 15개 추출한다.\n",
        "target_art, target_gen = [], []\n",
        "for i in range(100):\n",
        "  if (w1_[i] not in w2_) and (w1_[i] in model.wv): target_art.append(w1_[i])\n",
        "  if len(target_art) == n : break\n",
        "\n",
        "for i in range(100):\n",
        "  if (w2_[i] not in w1_) and (w2_[i] in model.wv): target_gen.append(w2_[i])\n",
        "  if len(target_gen) == n : break"
      ],
      "metadata": {
        "colab": {
          "base_uri": "https://localhost:8080/"
        },
        "id": "c9PlRAZudsUj",
        "outputId": "d9cff19f-0d56-41d3-9831-0505d643c43b"
      },
      "execution_count": null,
      "outputs": [
        {
          "output_type": "stream",
          "name": "stderr",
          "text": [
            "/usr/local/lib/python3.7/dist-packages/sklearn/utils/deprecation.py:87: FutureWarning: Function get_feature_names is deprecated; get_feature_names is deprecated in 1.0 and will be removed in 1.2. Please use get_feature_names_out instead.\n",
            "  warnings.warn(msg, category=FutureWarning)\n"
          ]
        }
      ]
    },
    {
      "cell_type": "code",
      "source": [
        "print(target_art)\n",
        "print(target_gen)"
      ],
      "metadata": {
        "colab": {
          "base_uri": "https://localhost:8080/"
        },
        "id": "AblGddYRfCoE",
        "outputId": "02abff99-2a02-48d4-f93c-fe4c49e1f285"
      },
      "execution_count": null,
      "outputs": [
        {
          "output_type": "stream",
          "name": "stdout",
          "text": [
            "['아빠', '음악', '결심', '운명', '지금', '여인', '이름', '이후', '준비', '감정', '만난', '처음', '충격', '누구', '그린']\n",
            "['서울', '애니메이션', '여성', '가지', '주인공', '대해', '연출', '사회', '다큐멘터리', '부문', '섹스', '바로', '의도', '계획', '정체']\n"
          ]
        }
      ]
    },
    {
      "cell_type": "markdown",
      "source": [
        "장르별 대표 단어를 추출해보자.\n",
        "\n",
        "드라마 장르와 액션 장르를 다루어 보려고 합니다. 그러나 드라마와 액션 단 2개의 장르만 고려하기보다는 여러 장르의 코퍼스를 두루 고려하는 것이 특정 장르를 대표하는 단어를 선택하는 데 더 유리할 것입니다. 이번에는 주요 장르 5개만 고려해 봅시다."
      ],
      "metadata": {
        "id": "qBMjSoEKfG6u"
      }
    },
    {
      "cell_type": "code",
      "source": [
        "genre_txt = ['synopsis_drama.txt', 'synopsis_romance.txt', 'synopsis_action.txt', 'synopsis_comedy.txt', 'synopsis_war.txt', 'synopsis_horror.txt']\n",
        "genre_name = ['드라마', '멜로로맨스', '액션', '코미디', '전쟁', '공포(호러)']"
      ],
      "metadata": {
        "id": "MV75MzJvfON3"
      },
      "execution_count": null,
      "outputs": []
    },
    {
      "cell_type": "code",
      "source": [
        "genre = []\n",
        "for file_name in genre_txt:\n",
        "  genre.append(read_token(file_name))"
      ],
      "metadata": {
        "id": "e8QvzjLOfQSa"
      },
      "execution_count": null,
      "outputs": []
    },
    {
      "cell_type": "code",
      "source": [
        "vectorizer = TfidfVectorizer()\n",
        "X = vectorizer.fit_transform(genre)\n",
        "\n",
        "print(X.shape)"
      ],
      "metadata": {
        "colab": {
          "base_uri": "https://localhost:8080/"
        },
        "id": "HDryNPqqg36R",
        "outputId": "8e34d1b5-119f-46cf-b269-797ec08247ae"
      },
      "execution_count": null,
      "outputs": [
        {
          "output_type": "stream",
          "name": "stdout",
          "text": [
            "(6, 33151)\n"
          ]
        }
      ]
    },
    {
      "cell_type": "code",
      "source": [
        "m = [X[i].tocoo() for i in range(X.shape[0])]\n",
        "\n",
        "w = [[[i,j] for i,j in zip(mm.col, mm.data)] for mm in m]\n",
        "\n",
        "for i in range(len(w)):\n",
        "  w[i].sort(key = lambda x : x[1], reverse = True)\n",
        "attributes = []\n",
        "for i in range(len(w)):\n",
        "  print(genre_name[i], end = ': ')\n",
        "  attr = []\n",
        "  j = 0\n",
        "  while (len(attr) < 15):\n",
        "    if vectorizer.get_feature_names()[w[i][j][0]] in model.wv:\n",
        "      attr.append(vectorizer.get_feature_names()[w[i][j][0]])\n",
        "      print(vectorizer.get_feature_names()[w[i][j][0]], end = ', ')\n",
        "    j += 1\n",
        "  attributes.append(attr)\n",
        "  print()"
      ],
      "metadata": {
        "colab": {
          "base_uri": "https://localhost:8080/"
        },
        "id": "Q7X3b1a4fZCu",
        "outputId": "74991cd5-b584-4b16-8543-3c088367165e"
      },
      "execution_count": null,
      "outputs": [
        {
          "output_type": "stream",
          "name": "stdout",
          "text": [
            "드라마: 자신, 영화제, 그녀, 사람, 사랑, 위해, 영화, 시작, 국제, 남자, 친구, 이야기, 여자, 아버지, 엄마, \n",
            "멜로로맨스: 그녀, 사랑, 자신, 시작, 남자, 남편, 여자, 사람, 친구, 위해, 마음, 섹스, 결혼, 서로, 아내, \n",
            "액션: 위해, 자신, 시작, 조직, 사건, 사람, 그녀, 경찰, 전쟁, 친구, 모든, 목숨, 사실, 세계, 가족, \n",
            "코미디: 그녀, 자신, 시작, 위해, 사랑, 사람, 친구, 영화, 남자, 여자, 영화제, 가족, 과연, 마을, 사건, \n",
            "전쟁: 전쟁, 위해, 전투, 시작, 작전, 독일군, 부대, 독일, 윈터스, 자신, 사람, 공격, 임무, 연합군, 병사, \n",
            "공포(호러): 시작, 위해, 사람, 자신, 친구, 그녀, 사건, 공포, 발견, 죽음, 마을, 남자, 가족, 영화, 하나, \n"
          ]
        }
      ]
    },
    {
      "cell_type": "markdown",
      "source": [
        "각 장르를 대표하는 단어들을 추출해 보았다.\n",
        "\n",
        "생각했던 직관과 어느정도 맞았는지 확인해보는 것이 좋다.\n",
        "\n",
        "중복된 것이 종종 있지만 art, gen 두 개의 단어 셋을 추출했을 때에 비해 적습니다."
      ],
      "metadata": {
        "id": "VcWXUQ3CglzG"
      }
    },
    {
      "cell_type": "markdown",
      "source": [
        "4. embedding model과 단어 셋으로 WEAT score 구해보기\n",
        "\n",
        "이제 WEAT_score를 구해봅시다.\n",
        "\n",
        "traget_X는 art, target_Y는 gen, attribute_A는 '드라마', attribute_B는 '액션' 과 같이 정해줄 수 있습니다.\n",
        "\n",
        "target_X 는 art, target_Y 는 gen으로 고정하고 attribute_A, attribute_B를 바꿔가면서 구해봅시다. 구한 결과를 21x21 매트릭스 형태로 표현해서 matrix 라는 변수에 담아봅시다."
      ],
      "metadata": {
        "id": "QZ9fIfVwg5mq"
      }
    },
    {
      "cell_type": "code",
      "source": [
        "# matrix 변수 만들기\n",
        "\n",
        "matrix = [[0 for _ in range(len(genre_name))] for _ in range(len(genre_name))]"
      ],
      "metadata": {
        "id": "K90mfxD4g8Zp"
      },
      "execution_count": null,
      "outputs": []
    },
    {
      "cell_type": "code",
      "source": [
        "X = np.array([model.wv[word] for word in target_art])\n",
        "Y = np.array([model.wv[word] for word in target_gen])\n",
        "\n",
        "for i in range(len(genre_name)-1):\n",
        "    for j in range(i+1, len(genre_name)):\n",
        "        A = np.array([model.wv[word] for word in attributes[i]])\n",
        "        B = np.array([model.wv[word] for word in attributes[j]])\n",
        "        matrix[i][j] = weat_score(X, Y, A, B)"
      ],
      "metadata": {
        "id": "uRWI275ahg0j"
      },
      "execution_count": null,
      "outputs": []
    },
    {
      "cell_type": "code",
      "source": [
        "for i in range(len(genre_name)-1):\n",
        "    for j in range(i+1, len(genre_name)):\n",
        "        print(genre_name[i], genre_name[j],matrix[i][j])"
      ],
      "metadata": {
        "colab": {
          "base_uri": "https://localhost:8080/"
        },
        "id": "1ts1ZVJWiCGU",
        "outputId": "90a0c092-2d40-49ff-b385-319cb61467f5"
      },
      "execution_count": null,
      "outputs": [
        {
          "output_type": "stream",
          "name": "stdout",
          "text": [
            "드라마 멜로로맨스 -0.82159686\n",
            "드라마 액션 -0.0107274605\n",
            "드라마 코미디 0.0014087051\n",
            "드라마 전쟁 0.39807948\n",
            "드라마 공포(호러) -0.17229131\n",
            "멜로로맨스 액션 0.74913675\n",
            "멜로로맨스 코미디 0.8837264\n",
            "멜로로맨스 전쟁 0.7746104\n",
            "멜로로맨스 공포(호러) 0.7401312\n",
            "액션 코미디 0.014992319\n",
            "액션 전쟁 0.54078406\n",
            "액션 공포(호러) -0.22371045\n",
            "코미디 전쟁 0.44953373\n",
            "코미디 공포(호러) -0.27590558\n",
            "전쟁 공포(호러) -0.52122843\n"
          ]
        }
      ]
    },
    {
      "cell_type": "markdown",
      "source": [
        "WEAT score가 0.8 이상, -0.8 이하의 경우만 해석해 보면 아래와 같습니다.\n",
        "\n",
        "- 예술영화와 일반영화, 그리고 드라마와 멜로로맨스의 WEAT score의 의미를 해석해보면 예술영화는 멜로로맨스, 일반영화는 드라마와 가깝다고 볼 수 있습니다. 부호가 마이너스이므로 사람의 편향과 반대라는 것을 알 수 있습니다.\n",
        "\n",
        "- 예술영화와 일반영화, 그리고 멜로로맨스와 코미디의 WEAT score의 의미를 해석해보면 예술 영화는 멜로로맨스와 가깝고, 코미디는 일반 영화와 가깝다고 볼 수 있습니다.\n",
        "\n",
        "- 예술영화와 일반영화, 그리고 멜로로맨스와 전쟁의 WEAT score의 의미를 해석해보면 예술 영화는 멜로로맨스와 가깝고, 전쟁은 일반 영화와 가깝다고 볼 수 있습니다."
      ],
      "metadata": {
        "id": "9GTbvRiliLv3"
      }
    },
    {
      "cell_type": "code",
      "source": [
        "import numpy as np\n",
        "import seaborn as sns\n",
        "\n",
        "np.random.seed(0)\n",
        "\n",
        "# 한글 지원 폰트\n",
        "sns.set(font='NanumGothic')\n",
        "\n",
        "# 마이너스 부호 \n",
        "\n",
        "plt.rcParams['axes.unicode_minus'] = False\n",
        "\n",
        "ax = sns.heatmap(matrix, xticklabels=genre_name, yticklabels=genre_name, annot=True,  cmap='RdYlGn_r')\n",
        "ax"
      ],
      "metadata": {
        "colab": {
          "base_uri": "https://localhost:8080/",
          "height": 1000
        },
        "id": "BlZT71jViUtE",
        "outputId": "5578b796-4cac-41f7-c704-588019425a5a"
      },
      "execution_count": null,
      "outputs": [
        {
          "output_type": "stream",
          "name": "stderr",
          "text": [
            "WARNING:matplotlib.font_manager:findfont: Font family ['NanumGothic'] not found. Falling back to DejaVu Sans.\n",
            "/usr/local/lib/python3.7/dist-packages/matplotlib/backends/backend_agg.py:214: RuntimeWarning: Glyph 46300 missing from current font.\n",
            "  font.set_text(s, 0.0, flags=flags)\n",
            "/usr/local/lib/python3.7/dist-packages/matplotlib/backends/backend_agg.py:214: RuntimeWarning: Glyph 46972 missing from current font.\n",
            "  font.set_text(s, 0.0, flags=flags)\n",
            "/usr/local/lib/python3.7/dist-packages/matplotlib/backends/backend_agg.py:214: RuntimeWarning: Glyph 47560 missing from current font.\n",
            "  font.set_text(s, 0.0, flags=flags)\n",
            "/usr/local/lib/python3.7/dist-packages/matplotlib/backends/backend_agg.py:214: RuntimeWarning: Glyph 47708 missing from current font.\n",
            "  font.set_text(s, 0.0, flags=flags)\n",
            "/usr/local/lib/python3.7/dist-packages/matplotlib/backends/backend_agg.py:214: RuntimeWarning: Glyph 47196 missing from current font.\n",
            "  font.set_text(s, 0.0, flags=flags)\n",
            "/usr/local/lib/python3.7/dist-packages/matplotlib/backends/backend_agg.py:214: RuntimeWarning: Glyph 47592 missing from current font.\n",
            "  font.set_text(s, 0.0, flags=flags)\n",
            "/usr/local/lib/python3.7/dist-packages/matplotlib/backends/backend_agg.py:214: RuntimeWarning: Glyph 49828 missing from current font.\n",
            "  font.set_text(s, 0.0, flags=flags)\n",
            "/usr/local/lib/python3.7/dist-packages/matplotlib/backends/backend_agg.py:214: RuntimeWarning: Glyph 50529 missing from current font.\n",
            "  font.set_text(s, 0.0, flags=flags)\n",
            "/usr/local/lib/python3.7/dist-packages/matplotlib/backends/backend_agg.py:214: RuntimeWarning: Glyph 49496 missing from current font.\n",
            "  font.set_text(s, 0.0, flags=flags)\n",
            "/usr/local/lib/python3.7/dist-packages/matplotlib/backends/backend_agg.py:214: RuntimeWarning: Glyph 53076 missing from current font.\n",
            "  font.set_text(s, 0.0, flags=flags)\n",
            "/usr/local/lib/python3.7/dist-packages/matplotlib/backends/backend_agg.py:214: RuntimeWarning: Glyph 48120 missing from current font.\n",
            "  font.set_text(s, 0.0, flags=flags)\n",
            "/usr/local/lib/python3.7/dist-packages/matplotlib/backends/backend_agg.py:214: RuntimeWarning: Glyph 46356 missing from current font.\n",
            "  font.set_text(s, 0.0, flags=flags)\n",
            "/usr/local/lib/python3.7/dist-packages/matplotlib/backends/backend_agg.py:214: RuntimeWarning: Glyph 51204 missing from current font.\n",
            "  font.set_text(s, 0.0, flags=flags)\n",
            "/usr/local/lib/python3.7/dist-packages/matplotlib/backends/backend_agg.py:214: RuntimeWarning: Glyph 51137 missing from current font.\n",
            "  font.set_text(s, 0.0, flags=flags)\n",
            "/usr/local/lib/python3.7/dist-packages/matplotlib/backends/backend_agg.py:214: RuntimeWarning: Glyph 44277 missing from current font.\n",
            "  font.set_text(s, 0.0, flags=flags)\n",
            "/usr/local/lib/python3.7/dist-packages/matplotlib/backends/backend_agg.py:214: RuntimeWarning: Glyph 54252 missing from current font.\n",
            "  font.set_text(s, 0.0, flags=flags)\n",
            "/usr/local/lib/python3.7/dist-packages/matplotlib/backends/backend_agg.py:214: RuntimeWarning: Glyph 54840 missing from current font.\n",
            "  font.set_text(s, 0.0, flags=flags)\n",
            "/usr/local/lib/python3.7/dist-packages/matplotlib/backends/backend_agg.py:214: RuntimeWarning: Glyph 47084 missing from current font.\n",
            "  font.set_text(s, 0.0, flags=flags)\n",
            "/usr/local/lib/python3.7/dist-packages/matplotlib/backends/backend_agg.py:183: RuntimeWarning: Glyph 46300 missing from current font.\n",
            "  font.set_text(s, 0, flags=flags)\n",
            "/usr/local/lib/python3.7/dist-packages/matplotlib/backends/backend_agg.py:183: RuntimeWarning: Glyph 46972 missing from current font.\n",
            "  font.set_text(s, 0, flags=flags)\n",
            "/usr/local/lib/python3.7/dist-packages/matplotlib/backends/backend_agg.py:183: RuntimeWarning: Glyph 47560 missing from current font.\n",
            "  font.set_text(s, 0, flags=flags)\n",
            "/usr/local/lib/python3.7/dist-packages/matplotlib/backends/backend_agg.py:183: RuntimeWarning: Glyph 47708 missing from current font.\n",
            "  font.set_text(s, 0, flags=flags)\n",
            "/usr/local/lib/python3.7/dist-packages/matplotlib/backends/backend_agg.py:183: RuntimeWarning: Glyph 47196 missing from current font.\n",
            "  font.set_text(s, 0, flags=flags)\n",
            "/usr/local/lib/python3.7/dist-packages/matplotlib/backends/backend_agg.py:183: RuntimeWarning: Glyph 47592 missing from current font.\n",
            "  font.set_text(s, 0, flags=flags)\n",
            "/usr/local/lib/python3.7/dist-packages/matplotlib/backends/backend_agg.py:183: RuntimeWarning: Glyph 49828 missing from current font.\n",
            "  font.set_text(s, 0, flags=flags)\n",
            "/usr/local/lib/python3.7/dist-packages/matplotlib/backends/backend_agg.py:183: RuntimeWarning: Glyph 50529 missing from current font.\n",
            "  font.set_text(s, 0, flags=flags)\n",
            "/usr/local/lib/python3.7/dist-packages/matplotlib/backends/backend_agg.py:183: RuntimeWarning: Glyph 49496 missing from current font.\n",
            "  font.set_text(s, 0, flags=flags)\n",
            "/usr/local/lib/python3.7/dist-packages/matplotlib/backends/backend_agg.py:183: RuntimeWarning: Glyph 53076 missing from current font.\n",
            "  font.set_text(s, 0, flags=flags)\n",
            "/usr/local/lib/python3.7/dist-packages/matplotlib/backends/backend_agg.py:183: RuntimeWarning: Glyph 48120 missing from current font.\n",
            "  font.set_text(s, 0, flags=flags)\n",
            "/usr/local/lib/python3.7/dist-packages/matplotlib/backends/backend_agg.py:183: RuntimeWarning: Glyph 46356 missing from current font.\n",
            "  font.set_text(s, 0, flags=flags)\n",
            "/usr/local/lib/python3.7/dist-packages/matplotlib/backends/backend_agg.py:183: RuntimeWarning: Glyph 51204 missing from current font.\n",
            "  font.set_text(s, 0, flags=flags)\n",
            "/usr/local/lib/python3.7/dist-packages/matplotlib/backends/backend_agg.py:183: RuntimeWarning: Glyph 51137 missing from current font.\n",
            "  font.set_text(s, 0, flags=flags)\n",
            "/usr/local/lib/python3.7/dist-packages/matplotlib/backends/backend_agg.py:183: RuntimeWarning: Glyph 44277 missing from current font.\n",
            "  font.set_text(s, 0, flags=flags)\n",
            "/usr/local/lib/python3.7/dist-packages/matplotlib/backends/backend_agg.py:183: RuntimeWarning: Glyph 54252 missing from current font.\n",
            "  font.set_text(s, 0, flags=flags)\n",
            "/usr/local/lib/python3.7/dist-packages/matplotlib/backends/backend_agg.py:183: RuntimeWarning: Glyph 54840 missing from current font.\n",
            "  font.set_text(s, 0, flags=flags)\n",
            "/usr/local/lib/python3.7/dist-packages/matplotlib/backends/backend_agg.py:183: RuntimeWarning: Glyph 47084 missing from current font.\n",
            "  font.set_text(s, 0, flags=flags)\n"
          ]
        },
        {
          "output_type": "execute_result",
          "data": {
            "text/plain": [
              "<matplotlib.axes._subplots.AxesSubplot at 0x7f55f0199e90>"
            ]
          },
          "metadata": {},
          "execution_count": 77
        },
        {
          "output_type": "stream",
          "name": "stderr",
          "text": [
            "WARNING:matplotlib.font_manager:findfont: Font family ['NanumGothic'] not found. Falling back to DejaVu Sans.\n"
          ]
        },
        {
          "output_type": "display_data",
          "data": {
            "text/plain": [
              "<Figure size 432x288 with 2 Axes>"
            ],
            "image/png": "[encoded data removed]"
          },
          "metadata": {}
        }
      ]
    },
    {
      "cell_type": "markdown",
      "source": [
        "지금까지 word embedding model에 있는 편향성을 확인해보기 위해 WEAT score를 시도해보았습니다. \n",
        "\n",
        "이 학습을 통해 내가 가진 데이터로 word embedding model을 만들 수 있고, 이 모델이 특정 분야에 대해 편향이 되어있는지 확인해볼 수 있게 되었기를 바랍니다."
      ],
      "metadata": {
        "id": "v1rJHVvFiXPC"
      }
    }
  ]
}